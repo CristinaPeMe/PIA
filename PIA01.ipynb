{
  "nbformat": 4,
  "nbformat_minor": 0,
  "metadata": {
    "colab": {
      "provenance": [],
      "authorship_tag": "ABX9TyNdR3kCorasQz9aBPZSS7D8",
      "include_colab_link": true
    },
    "kernelspec": {
      "name": "python3",
      "display_name": "Python 3"
    },
    "language_info": {
      "name": "python"
    }
  },
  "cells": [
    {
      "cell_type": "markdown",
      "metadata": {
        "id": "view-in-github",
        "colab_type": "text"
      },
      "source": [
        "<a href=\"https://colab.research.google.com/github/CristinaPeMe/PIA/blob/main/PIA01.ipynb\" target=\"_parent\"><img src=\"https://colab.research.google.com/assets/colab-badge.svg\" alt=\"Open In Colab\"/></a>"
      ]
    },
    {
      "cell_type": "code",
      "execution_count": null,
      "metadata": {
        "id": "K42iNyvw5fCg"
      },
      "outputs": [],
      "source": []
    },
    {
      "cell_type": "markdown",
      "source": [
        " División de una lista de enteros"
      ],
      "metadata": {
        "id": "d9ntOIaWCDg6"
      }
    },
    {
      "cell_type": "code",
      "source": [
        "#función para dividir una lista de enteros\n",
        "\n",
        "def dividir_lista_enteros(lista):\n",
        "\n",
        "#listas para almacenar\n",
        "\n",
        "  negativos=[]\n",
        "  positivos=[]\n",
        "\n",
        "#se recorre la lista y se comprueba si el numero es negativo o positivo o si es 0\n",
        "\n",
        "  for num in lista:\n",
        "    if num <0:\n",
        "      negativos.append(num)\n",
        "    elif num >0 :\n",
        "      positivos.append(num)\n",
        "\n",
        "\n",
        "  negativos.sort()\n",
        "  positivos.sort()\n",
        "\n",
        "  return negativos, positivos\n",
        "\n",
        "# lista de ejemplo\n",
        "lista = [4, -1, 0, -3, 7, 2, -5]\n",
        "\n",
        "# se llama a la función\n",
        "negativos, positivos = dividir_lista_enteros(lista)\n",
        "\n",
        "# resultados\n",
        "print(\"Negativos >>\", negativos)\n",
        "print(\"Positivos >>\", positivos)\n",
        "\n"
      ],
      "metadata": {
        "colab": {
          "base_uri": "https://localhost:8080/"
        },
        "id": "LK9ZxhIu5lp1",
        "outputId": "31b49a38-2ff9-4f15-9189-e9e30a77122a"
      },
      "execution_count": 3,
      "outputs": [
        {
          "output_type": "stream",
          "name": "stdout",
          "text": [
            "Negativos >> [-5, -3, -1]\n",
            "Positivos >> [2, 4, 7]\n"
          ]
        }
      ]
    },
    {
      "cell_type": "markdown",
      "source": [
        "Frecuencia de palabras en un texto"
      ],
      "metadata": {
        "id": "lqTljdzUaW1I"
      }
    },
    {
      "cell_type": "code",
      "source": [
        "\n",
        "#importamos el módulo string\n",
        "import string\n",
        "\n",
        "# función para contar la frecuencia de palabras en un texto\n",
        "def contar_palabras(texto):\n",
        "    # Eliminamos los signos de puntuacion\n",
        "    #string.puntuaction contiene !\"#$%&'()*+,-./:;<=>?@[\\]^_{|}~`. Los pongo en una variable\n",
        "    punctuaciones = string.punctuation\n",
        "\n",
        "    # recorro el bucle reemplazando estos simbolos\n",
        "    for char in punctuaciones:\n",
        "      texto = texto.replace(char, \"\")\n",
        "\n",
        "    # paso el texto a minúsculas\n",
        "    texto = texto.lower()\n",
        "\n",
        "    # divido el texto  en palabras\n",
        "    palabras = texto.split()\n",
        "\n",
        "    # creo un diccionario para almacenar la frecuencia de cada palabra\n",
        "    frecuencias = {}\n",
        "\n",
        "    # Recorrer la lista de palabras\n",
        "    for palabra in palabras:\n",
        "        if palabra in frecuencias:\n",
        "            frecuencias[palabra] += 1  # si existe, incrementar el contador\n",
        "        else:\n",
        "            frecuencias[palabra] = 1  # si no existe, agregarla con frecuencia 1\n",
        "\n",
        "    # devuelvo el diccionario ordenado\n",
        "    return dict(sorted(frecuencias.items()))\n",
        "\n",
        "    # programa principal\n",
        "if __name__ == \"__main__\":\n",
        "    # pedir al usuario un texto\n",
        "    texto_usuario = input(\"¡Escribe un texto! :) \")\n",
        "\n",
        "    # llamada a la funcion\n",
        "    resultado = contar_palabras(texto_usuario)\n",
        "\n",
        "    #  resultado\n",
        "    print(\"Frecuencia de palabras:\")\n",
        "    for palabra, frecuencia in resultado.items():\n",
        "        print(f\"{palabra}: {frecuencia}\")\n"
      ],
      "metadata": {
        "id": "NYIAWO27aElo",
        "colab": {
          "base_uri": "https://localhost:8080/"
        },
        "outputId": "f76312d6-f0d7-412a-d1c0-79f35880e464"
      },
      "execution_count": 5,
      "outputs": [
        {
          "output_type": "stream",
          "name": "stdout",
          "text": [
            "¡Escribe un texto! :) hola mi nombre es cirtaina 9283 jshdj hoal hola jaja jaja hola\n",
            "Frecuencia de palabras:\n",
            "9283: 1\n",
            "cirtaina: 1\n",
            "es: 1\n",
            "hoal: 1\n",
            "hola: 3\n",
            "jaja: 2\n",
            "jshdj: 1\n",
            "mi: 1\n",
            "nombre: 1\n"
          ]
        }
      ]
    },
    {
      "cell_type": "markdown",
      "source": [
        " Intersección y unión de conjuntos"
      ],
      "metadata": {
        "id": "Wb9cI7VGaklg"
      }
    },
    {
      "cell_type": "code",
      "source": [
        "import re  # importamos el módulo de expresiones regulares\n",
        "\n",
        "def creacion_conjunto(numeros_usuario1, numeros_usuario2):\n",
        "   # divido en números por comas y por espacios\n",
        "    numeros1 = re.split(r'[,\\s]+', numeros_usuario1.strip())\n",
        "    numeros2 = re.split(r'[,\\s]+', numeros_usuario2.strip())\n",
        "\n",
        "\n",
        "      # inicializo conjuntos\n",
        "    conjunto1 = set()\n",
        "    conjunto2 = set()\n",
        "\n",
        "    #convierto cadenas a enteros\n",
        "\n",
        "    for num in numeros1:\n",
        "        try:\n",
        "            conjunto1.add(int(num))  # lo convierte y lo añade\n",
        "        except ValueError: #Si no es un número\n",
        "            print(f\"'{num}' No es un número entero válido para el primer conjunto.\")\n",
        "\n",
        "    for num in numeros2:\n",
        "        try:\n",
        "            conjunto2.add(int(num))  # lo convierte y lo añade\n",
        "        except ValueError:  #Si no es un número\n",
        "            print(f\"'{num}' No es un número entero válido para el segundo conjunto.\")\n",
        "\n",
        "\n",
        "\n",
        "    interseccion = conjunto1 & conjunto2  # números comunes\n",
        "    union = conjunto1 | conjunto2          # todos los números sin duplicados\n",
        "    diferencia_simetrica = conjunto1 ^ conjunto2  # números que están en uno u otro conjunto, pero no en ambos\n",
        "\n",
        "    return interseccion, union, diferencia_simetrica\n",
        "\n",
        "\n",
        "\n",
        "  # programa principal\n",
        "if __name__ == \"__main__\":\n",
        "    # pedir al usuario un listado de números\n",
        "    numeros_usuario1 = input(\"¡Escribe números enteros para un primer conjunto! \")\n",
        "    numeros_usuario2 = input(\"¡Ahora para el segundo! \")\n",
        "\n",
        "    # llamada a la función\n",
        "    interseccion, union, diferencia_simetrica = creacion_conjunto(numeros_usuario1, numeros_usuario2)\n",
        "\n",
        "     #  resultados\n",
        "    if interseccion:\n",
        "        print(\"Intersección:\", interseccion)\n",
        "    else: #Si no hay números comunes\n",
        "        print(\"No hay elementos comunes entre los conjuntos.\")\n",
        "\n",
        "    print(\"Unión:\", union)\n",
        "    print(\"Diferencia simétrica:\", diferencia_simetrica)\n",
        "\n"
      ],
      "metadata": {
        "colab": {
          "base_uri": "https://localhost:8080/"
        },
        "id": "Ls_DDQh1gpwA",
        "outputId": "f730a408-ece3-4343-e2bf-5d7015c198e6"
      },
      "execution_count": 9,
      "outputs": [
        {
          "output_type": "stream",
          "name": "stdout",
          "text": [
            "¡Escribe números enteros para un primer conjunto! 3,4 889 9 4 oo2\n",
            "¡Ahora para el segundo! 2,3, 4 0 jj2\n",
            "'oo2' No es un número entero válido para el primer conjunto.\n",
            "'jj2' No es un número entero válido para el segundo conjunto.\n",
            "Intersección: {3, 4}\n",
            "Unión: {0, 2, 3, 4, 9, 889}\n",
            "Diferencia simétrica: {0, 2, 9, 889}\n"
          ]
        }
      ]
    }
  ]
}